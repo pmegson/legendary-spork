{
 "cells": [
  {
   "cell_type": "code",
   "execution_count": 2,
   "metadata": {
    "collapsed": true
   },
   "outputs": [],
   "source": [
    "import cv2\n",
    "import numpy as np\n",
    "from matplotlib import pyplot as plt\n",
    "\n",
    "import sys\n",
    "\n",
    "def createHistogram(magBlock,angleBlock):\n",
    "    # Function to create a histogram of gradients given an 8x8 block\n",
    "    hist = np.zeros([9])\n",
    "    angleBlock = np.mod(angleBlock,180) / 20\n",
    "##    print(angleBlock)\n",
    "##    print(\"\")\n",
    "##    print('len(angleBlock is ' + str(len(angleBlock)))\n",
    "    \n",
    "    for i in range(len(angleBlock)):\n",
    "        for j in range(len(angleBlock[i])):\n",
    "            angle = angleBlock[i,j]\n",
    "            rem = angle%1\n",
    "            left = int(np.floor(angle))\n",
    "            if (angle < 8.0):\n",
    "                right = int(np.ceil(angle))\n",
    "            else:\n",
    "                right = 0\n",
    "\n",
    "##            if j == 2:\n",
    "##                print('angle: '+ str(angle) + ' | rem: ' + \n",
    "##                      str(rem) + ' | left: ' + str(left) +\n",
    "##                      ' | right: ' + str(right))\n",
    "\n",
    "            hist[left] += (1-rem)*magBlock[i,j]\n",
    "            hist[right] += rem*magBlock[i,j]\n",
    "\n",
    "##    print('Hist is: ')\n",
    "##    print(hist)\n",
    "\n",
    "    return hist"
   ]
  },
  {
   "cell_type": "code",
   "execution_count": 5,
   "metadata": {},
   "outputs": [
    {
     "name": "stdout",
     "output_type": "stream",
     "text": [
      "Left index is: 4| value in that bin is: 7.15\n",
      "Right index is: 5| Value in that bin is: 3.85\n"
     ]
    },
    {
     "data": {
      "text/plain": [
       "array([[ 4.  ,  1.8 ,  0.25,  0.5 ,  0.  ,  3.2 ,  4.5 ,  3.65],\n",
       "       [ 1.85,  0.45,  0.45,  8.95,  3.9 ,  1.35,  8.45,  8.3 ],\n",
       "       [ 4.35,  6.8 ,  8.65,  1.95,  5.1 ,  8.15,  7.6 ,  8.8 ],\n",
       "       [ 3.8 ,  0.65,  0.05,  8.4 ,  7.95,  1.1 ,  6.25,  7.15],\n",
       "       [ 6.  ,  3.5 ,  0.7 ,  7.5 ,  7.25,  7.2 ,  7.25,  7.15],\n",
       "       [ 2.9 ,  4.3 ,  5.95,  4.9 ,  5.  ,  5.05,  6.65,  5.65],\n",
       "       [ 1.5 ,  3.25,  7.85,  3.75,  3.9 ,  8.25,  7.25,  6.2 ],\n",
       "       [ 0.55,  8.5 ,  4.55,  0.2 ,  5.5 ,  0.85,  6.65,  5.5 ]])"
      ]
     },
     "execution_count": 5,
     "metadata": {},
     "output_type": "execute_result"
    }
   ],
   "source": [
    "magBlock = np.loadtxt(open(\"magBlock.csv\",\"rb\"), delimiter=\",\")\n",
    "angleBlock = np.loadtxt(open(\"angleBlock.csv\",\"rb\"), delimiter=\",\")\n",
    "angleBlock = np.mod(angleBlock,180) / 20\n",
    "angle = angleBlock[2,0]\n",
    "rem = angle%1\n",
    "left = int(np.floor(angle))\n",
    "if angle < 8.0:\n",
    "    right = int(np.ceil(angle))\n",
    "else:\n",
    "    right = 0\n",
    "    \n",
    "print(\"Left index is: \" + str(left) + \n",
    "      \"| value in that bin is: \" + str((1-rem)*magBlock[2,0]))\n",
    "print(\"Right index is: \" + str(right) + \n",
    "      \"| Value in that bin is: \" + str(rem*magBlock[2,0]))\n",
    "\n",
    "angleBlock"
   ]
  },
  {
   "cell_type": "code",
   "execution_count": 6,
   "metadata": {},
   "outputs": [
    {
     "name": "stdout",
     "output_type": "stream",
     "text": [
      "85.0\n",
      "165.0\n"
     ]
    },
    {
     "data": {
      "image/png": "[encoded data removed]",
      "text/plain": [
       "<matplotlib.figure.Figure at 0x192e3614cc0>"
      ]
     },
     "metadata": {},
     "output_type": "display_data"
    }
   ],
   "source": [
    "magBlock = np.loadtxt(open(\"magBlock.csv\",\"rb\"), delimiter=\",\")\n",
    "angleBlock = np.loadtxt(open(\"angleBlock.csv\",\"rb\"), delimiter=\",\")\n",
    "print(magBlock[6,5])\n",
    "print(angleBlock[6,5])\n",
    "hist = createHistogram(magBlock,angleBlock)          \n",
    "x = np.arange(9)\n",
    "plt.bar(x,hist)\n",
    "plt.show()        "
   ]
  },
  {
   "cell_type": "code",
   "execution_count": 315,
   "metadata": {
    "collapsed": true
   },
   "outputs": [],
   "source": [
    "BLOCKSIZE = 8\n",
    "HISTSIZE = 9\n",
    "EPS = 0.0001\n",
    "imgpath = \"C:/Users/pmegson/Documents/openCVTutorial/HoG/tester.png\"\n",
    "\n",
    "img = cv2.imread(imgpath)\n",
    "height, width = img.shape[0:2]\n",
    "if width != 64 or height != 128:\n",
    "    img = cv2.resize(img, (64,128))\n",
    "\n",
    "img = np.float32(img) / 255.0\n",
    "    \n",
    "gx = cv2.Sobel(img,cv2.CV_32F,1,0,ksize=1)\n",
    "gy = cv2.Sobel(img,cv2.CV_32F,0,1,ksize=1)\n",
    "\n",
    "mag, angle =  cv2.cartToPolar(gx, gy, angleInDegrees=True)\n",
    "# need to correct for color channels. According to the blog post, we select the maximum gradient\n",
    "# on each pixel, and assign the corresponding direction.\n",
    "newMag = mag[:,:,0]\n",
    "newAng = angle[:,:,0]\n",
    "argmat = np.argmax(mag,2)\n",
    "for i in range(128):\n",
    "    for j in range(64):\n",
    "        newMag[i,j] = mag[i,j,argmat[i,j]]\n",
    "        newAng[i,j] = angle[i,j,argmat[i,j]]\n",
    "        \n",
    "mag = newMag\n",
    "angle = newAng\n",
    "\n",
    "numBlocksX = int(64/BLOCKSIZE)\n",
    "numBlocksY = int(128/BLOCKSIZE)\n",
    "\n",
    "HistList = np.empty([numBlocksY,numBlocksX,HISTSIZE])\n",
    "\n",
    "# Calculation of histograms step\n",
    "for row in range(numBlocksY):\n",
    "    for col in range(numBlocksX):\n",
    "        magBlock = mag[row*BLOCKSIZE:(row+1)*BLOCKSIZE-1, col*BLOCKSIZE:(col+1)*BLOCKSIZE-1]\n",
    "        angleBlock = angle[row*BLOCKSIZE:(row+1)*BLOCKSIZE-1, col*BLOCKSIZE:(col+1)*BLOCKSIZE-1]\n",
    "        HistList[row,col,:] = createHistogram(magBlock,angleBlock)\n",
    "\n",
    "# Normalization step\n",
    "finalVector = np.array([])\n",
    "for row in range(numBlocksY-1):\n",
    "    for col in range(numBlocksX-1):\n",
    "        bigHist = np.concatenate((HistList[row,col,:],HistList[row+1,col,:],\n",
    "                                 HistList[row,col+1,:],HistList[row+1,col+1,:]))\n",
    "        normHist = bigHist/np.sqrt(np.dot(bigHist,bigHist)+EPS)\n",
    "        finalVector = np.concatenate((finalVector,normHist))"
   ]
  },
  {
   "cell_type": "code",
   "execution_count": 319,
   "metadata": {},
   "outputs": [
    {
     "data": {
      "text/plain": [
       "12"
      ]
     },
     "execution_count": 319,
     "metadata": {},
     "output_type": "execute_result"
    }
   ],
   "source": [
    "np.sum(finalVector == 0)"
   ]
  },
  {
   "cell_type": "code",
   "execution_count": 312,
   "metadata": {},
   "outputs": [
    {
     "ename": "IndexError",
     "evalue": "index 112 is out of bounds for axis 1 with size 64",
     "output_type": "error",
     "traceback": [
      "\u001b[1;31m---------------------------------------------------------------------------\u001b[0m",
      "\u001b[1;31mIndexError\u001b[0m                                Traceback (most recent call last)",
      "\u001b[1;32m<ipython-input-312-18546457ab9c>\u001b[0m in \u001b[0;36m<module>\u001b[1;34m()\u001b[0m\n\u001b[0;32m      4\u001b[0m \u001b[0mmag\u001b[0m\u001b[1;33m[\u001b[0m\u001b[0mitest\u001b[0m\u001b[1;33m*\u001b[0m\u001b[0mBLOCKSIZE\u001b[0m\u001b[1;33m:\u001b[0m\u001b[1;33m(\u001b[0m\u001b[0mitest\u001b[0m\u001b[1;33m+\u001b[0m\u001b[1;36m1\u001b[0m\u001b[1;33m)\u001b[0m\u001b[1;33m*\u001b[0m\u001b[0mBLOCKSIZE\u001b[0m\u001b[1;33m-\u001b[0m\u001b[1;36m1\u001b[0m\u001b[1;33m,\u001b[0m \u001b[0mjtest\u001b[0m\u001b[1;33m*\u001b[0m\u001b[0mBLOCKSIZE\u001b[0m\u001b[1;33m:\u001b[0m\u001b[1;33m(\u001b[0m\u001b[0mjtest\u001b[0m\u001b[1;33m+\u001b[0m\u001b[1;36m1\u001b[0m\u001b[1;33m)\u001b[0m\u001b[1;33m*\u001b[0m\u001b[0mBLOCKSIZE\u001b[0m\u001b[1;33m-\u001b[0m\u001b[1;36m1\u001b[0m\u001b[1;33m]\u001b[0m\u001b[1;33m\u001b[0m\u001b[0m\n\u001b[0;32m      5\u001b[0m \u001b[1;33m\u001b[0m\u001b[0m\n\u001b[1;32m----> 6\u001b[1;33m \u001b[0mmag\u001b[0m\u001b[1;33m[\u001b[0m\u001b[0mitest\u001b[0m\u001b[1;33m,\u001b[0m\u001b[0mjtest\u001b[0m\u001b[1;33m*\u001b[0m\u001b[0mBLOCKSIZE\u001b[0m\u001b[1;33m]\u001b[0m\u001b[1;33m\u001b[0m\u001b[0m\n\u001b[0m",
      "\u001b[1;31mIndexError\u001b[0m: index 112 is out of bounds for axis 1 with size 64"
     ]
    }
   ],
   "source": [
    "numBlocksY\n",
    "jtest = 14\n",
    "itest = 4\n",
    "mag[itest*BLOCKSIZE:(itest+1)*BLOCKSIZE-1, jtest*BLOCKSIZE:(jtest+1)*BLOCKSIZE-1]\n",
    "\n",
    "mag[itest,jtest*BLOCKSIZE]"
   ]
  },
  {
   "cell_type": "code",
   "execution_count": 279,
   "metadata": {},
   "outputs": [
    {
     "data": {
      "text/plain": [
       "array([1, 2, 3, 4, 5, 6])"
      ]
     },
     "execution_count": 279,
     "metadata": {},
     "output_type": "execute_result"
    }
   ],
   "source": [
    "a = np.array([1,2,3])\n",
    "b = np.array([4,5,6])\n",
    "ab = np.concatenate((a,b))\n",
    "ab"
   ]
  },
  {
   "cell_type": "code",
   "execution_count": 151,
   "metadata": {},
   "outputs": [
    {
     "data": {
      "text/plain": [
       "(128, 64)"
      ]
     },
     "execution_count": 151,
     "metadata": {},
     "output_type": "execute_result"
    }
   ],
   "source": [
    "(mag[:,:,0] == np.amax(mag,2)).shape"
   ]
  },
  {
   "cell_type": "code",
   "execution_count": 222,
   "metadata": {
    "collapsed": true
   },
   "outputs": [],
   "source": [
    "level0 = np.array([[1,14,3,16],[5,18,7,20],[9,22,11,24]])\n",
    "level1 = np.array([[13,2,15,4],[17,6,19,8],[21,10,23,12]])\n",
    "full = np.array([level0,level1])"
   ]
  },
  {
   "cell_type": "code",
   "execution_count": 221,
   "metadata": {},
   "outputs": [
    {
     "data": {
      "text/plain": [
       "array([[1, 0, 1, 0],\n",
       "       [1, 0, 1, 0],\n",
       "       [1, 0, 1, 0]], dtype=int64)"
      ]
     },
     "execution_count": 221,
     "metadata": {},
     "output_type": "execute_result"
    }
   ],
   "source": [
    "np.argmax(full,0)"
   ]
  },
  {
   "cell_type": "code",
   "execution_count": 227,
   "metadata": {},
   "outputs": [
    {
     "data": {
      "text/plain": [
       "array([[[[13,  2, 15,  4],\n",
       "         [17,  6, 19,  8],\n",
       "         [21, 10, 23, 12]],\n",
       "\n",
       "        [[ 1, 14,  3, 16],\n",
       "         [ 5, 18,  7, 20],\n",
       "         [ 9, 22, 11, 24]],\n",
       "\n",
       "        [[13,  2, 15,  4],\n",
       "         [17,  6, 19,  8],\n",
       "         [21, 10, 23, 12]],\n",
       "\n",
       "        [[ 1, 14,  3, 16],\n",
       "         [ 5, 18,  7, 20],\n",
       "         [ 9, 22, 11, 24]],\n",
       "\n",
       "        [[13,  2, 15,  4],\n",
       "         [17,  6, 19,  8],\n",
       "         [21, 10, 23, 12]],\n",
       "\n",
       "        [[ 1, 14,  3, 16],\n",
       "         [ 5, 18,  7, 20],\n",
       "         [ 9, 22, 11, 24]],\n",
       "\n",
       "        [[13,  2, 15,  4],\n",
       "         [17,  6, 19,  8],\n",
       "         [21, 10, 23, 12]],\n",
       "\n",
       "        [[ 1, 14,  3, 16],\n",
       "         [ 5, 18,  7, 20],\n",
       "         [ 9, 22, 11, 24]],\n",
       "\n",
       "        [[13,  2, 15,  4],\n",
       "         [17,  6, 19,  8],\n",
       "         [21, 10, 23, 12]],\n",
       "\n",
       "        [[ 1, 14,  3, 16],\n",
       "         [ 5, 18,  7, 20],\n",
       "         [ 9, 22, 11, 24]],\n",
       "\n",
       "        [[13,  2, 15,  4],\n",
       "         [17,  6, 19,  8],\n",
       "         [21, 10, 23, 12]],\n",
       "\n",
       "        [[ 1, 14,  3, 16],\n",
       "         [ 5, 18,  7, 20],\n",
       "         [ 9, 22, 11, 24]]]])"
      ]
     },
     "execution_count": 227,
     "metadata": {},
     "output_type": "execute_result"
    }
   ],
   "source": [
    "test = np.argmax(full,0).reshape(1,12)\n"
   ]
  },
  {
   "cell_type": "code",
   "execution_count": 139,
   "metadata": {},
   "outputs": [
    {
     "data": {
      "text/plain": [
       "9"
      ]
     },
     "execution_count": 139,
     "metadata": {},
     "output_type": "execute_result"
    }
   ],
   "source": [
    "full[1,1,0]"
   ]
  },
  {
   "cell_type": "code",
   "execution_count": 143,
   "metadata": {},
   "outputs": [
    {
     "data": {
      "text/plain": [
       "(2, 3, 4)"
      ]
     },
     "execution_count": 143,
     "metadata": {},
     "output_type": "execute_result"
    }
   ],
   "source": [
    "full.shape"
   ]
  },
  {
   "cell_type": "code",
   "execution_count": null,
   "metadata": {
    "collapsed": true
   },
   "outputs": [],
   "source": []
  },
  {
   "cell_type": "code",
   "execution_count": 153,
   "metadata": {},
   "outputs": [
    {
     "name": "stdout",
     "output_type": "stream",
     "text": [
      "(2, 3)\n",
      "(2, 2, 3)\n",
      "(2, 2, 3)\n",
      "[[[ 1  2  3]\n",
      "  [ 4  5  6]]\n",
      "\n",
      " [[ 7  8  9]\n",
      "  [10 11 12]]]\n"
     ]
    },
    {
     "data": {
      "text/plain": [
       "array([[[False, False, False],\n",
       "        [False, False, False]],\n",
       "\n",
       "       [[ True,  True,  True],\n",
       "        [ True,  True,  True]]], dtype=bool)"
      ]
     },
     "execution_count": 153,
     "metadata": {},
     "output_type": "execute_result"
    }
   ],
   "source": [
    "mask = []\n",
    "mask = (a == np.amax(a,0))\n",
    "print(str((np.max(a,0)).shape))\n",
    "print(str(a.shape))\n",
    "print(str(mask.shape))\n",
    "print(a)\n",
    "mask"
   ]
  }
 ],
 "metadata": {
  "kernelspec": {
   "display_name": "Python 3",
   "language": "python",
   "name": "python3"
  },
  "language_info": {
   "codemirror_mode": {
    "name": "ipython",
    "version": 3
   },
   "file_extension": ".py",
   "mimetype": "text/x-python",
   "name": "python",
   "nbconvert_exporter": "python",
   "pygments_lexer": "ipython3",
   "version": "3.5.4"
  }
 },
 "nbformat": 4,
 "nbformat_minor": 2
}
