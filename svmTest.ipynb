{
 "cells": [
  {
   "cell_type": "code",
   "execution_count": 11,
   "metadata": {},
   "outputs": [
    {
     "name": "stdout",
     "output_type": "stream",
     "text": [
      "0/1218\n",
      "50/1218\n",
      "100/1218\n",
      "150/1218\n",
      "200/1218\n",
      "250/1218\n",
      "300/1218\n",
      "350/1218\n",
      "400/1218\n",
      "450/1218\n",
      "500/1218\n",
      "550/1218\n",
      "600/1218\n",
      "650/1218\n",
      "700/1218\n",
      "750/1218\n",
      "800/1218\n",
      "850/1218\n",
      "900/1218\n",
      "950/1218\n",
      "1000/1218\n",
      "1050/1218\n",
      "1100/1218\n",
      "1150/1218\n",
      "1200/1218\n",
      "0/614\n",
      "50/614\n",
      "100/614\n",
      "150/614\n",
      "200/614\n",
      "250/614\n",
      "300/614\n",
      "350/614\n",
      "400/614\n",
      "450/614\n",
      "500/614\n",
      "550/614\n",
      "600/614\n"
     ]
    }
   ],
   "source": [
    "import cv2\n",
    "import numpy as np\n",
    "from sklearn import svm\n",
    "from matplotlib import pyplot as plt\n",
    "import HoG\n",
    "\n",
    "import sys\n",
    "import os\n",
    "\n",
    "# Step 1: Populate training vectors\n",
    "# Step 2: create svm and train using .fit(samples, features)\n",
    "dirNames = [\"C:/users/pmegson/documents/openCVTutorial/HoG/INRIAPerson/Train/neg/\",\n",
    "            \"C:/users/pmegson/documents/openCVTutorial/HoG/INRIAPerson/Train/pos/\"]\n",
    "os.chdir(\"C:/users/pmegson/documents/openCVTutorial/HoG/INRIAPerson/Train/\")\n",
    "\n",
    "\n",
    "truthVal = 0\n",
    "trainSamples = np.array([[]])\n",
    "trainFeatures = []\n",
    "f = open('trainingData.csv','w+')\n",
    "for dirName in dirNames:\n",
    "    os.chdir(dirName)\n",
    "    fileList = os.listdir(dirName)\n",
    "\n",
    "    count = 0\n",
    "    for imgPath in fileList:\n",
    "        try:\n",
    "            vec = HoG.makeHoG(imgPath)\n",
    "        except:\n",
    "            print(filename)\n",
    "        f.write(str(truthVal))\n",
    "        f.write(\",\")\n",
    "        vec.tofile(f,sep=\",\")\n",
    "        f.write(\"\\n\")\n",
    "        \n",
    "        \n",
    "        ##if trainSamples.size == 0:\n",
    "        ##    trainSamples = np.array([HoG.makeHoG(filename)])\n",
    "        ##else:\n",
    "        ##    vec = np.array([HoG.makeHoG(filename)])\n",
    "        ##    trainSamples = np.append(trainSamples,vec,axis=0)\n",
    "\n",
    "        if (count%50 == 0) or (count%len(fileList)==0):\n",
    "            print(str(count)+\"/\"+str(len(fileList)))\n",
    "\n",
    "        count += 1\n",
    "        ##trainFeatures += [truthVal]\n",
    "    \n",
    "    truthVal += 1   \n",
    "    os.chdir('..')\n",
    "    \n",
    "f.close()\n"
   ]
  },
  {
   "cell_type": "code",
   "execution_count": 62,
   "metadata": {},
   "outputs": [
    {
     "name": "stdout",
     "output_type": "stream",
     "text": [
      "Loading Training Data:\n",
      "0\n",
      "100\n",
      "200\n",
      "300\n",
      "400\n",
      "500\n",
      "600\n",
      "700\n",
      "800\n",
      "900\n",
      "1000\n",
      "1100\n",
      "1200\n",
      "1300\n",
      "1400\n",
      "1500\n",
      "1600\n",
      "1700\n",
      "1800\n",
      "1900\n",
      "2000\n",
      "2100\n",
      "2200\n",
      "2300\n",
      "2400\n",
      "2500\n",
      "2600\n",
      "2700\n",
      "2800\n",
      "2900\n",
      "3000\n",
      "3100\n",
      "3200\n",
      "3300\n",
      "3400\n",
      "3500\n",
      "3600\n",
      "Loading Test Data:\n",
      "0\n",
      "100\n",
      "200\n",
      "300\n",
      "400\n",
      "500\n",
      "600\n",
      "700\n",
      "800\n",
      "900\n",
      "1000\n",
      "1100\n",
      "1200\n",
      "1300\n",
      "1400\n",
      "1500\n"
     ]
    }
   ],
   "source": [
    "from sklearn import svm\n",
    "\n",
    "# Read in training data, populating sample and feature vectors\n",
    "sampleVec = []\n",
    "featureVec = []\n",
    "fname = 'trainingData.csv'\n",
    "f = open(fname,'r')\n",
    "print(\"Loading Training Data:\")\n",
    "count = 0\n",
    "for line in f:\n",
    "    featureVec.append(int(line[0]))\n",
    "    sampleVec.append(line.split(\",\")[1:])\n",
    "    if count%100 == 0:\n",
    "        print(count)\n",
    "    count += 1\n",
    "    \n",
    "f.close()\n",
    "\n",
    "# Build and train the svm\n",
    "clf = svm.SVC()\n",
    "clf.fit(sampleVec,featureVec)\n",
    "\n",
    "testSamples = []\n",
    "groundTruth = []\n",
    "testFname = \"C:/users/pmegson/Documents/openCVTutorial/HoG/INRIAPerson/Test/testData.csv\"\n",
    "f = open(testFname,'r')\n",
    "print(\"Loading Test Data:\")\n",
    "count = 0\n",
    "for line in f:\n",
    "    groundTruth.append(int(line[0]))\n",
    "    testSamples.append(line.split(\",\")[1:])\n",
    "    if count%100 == 0:\n",
    "        print(count)\n",
    "    count += 1\n",
    "    \n",
    "f.close()\n",
    "\n",
    "pred = clf.predict(testSamples)\n"
   ]
  },
  {
   "cell_type": "code",
   "execution_count": 63,
   "metadata": {},
   "outputs": [
    {
     "name": "stdout",
     "output_type": "stream",
     "text": [
      "Precision: 0.9271929824561403\n",
      "Recall: 0.9387211367673179\n"
     ]
    }
   ],
   "source": [
    "tp = 0\n",
    "fp = 0\n",
    "tn = 0\n",
    "fn = 0\n",
    "precision = 0\n",
    "recall = 0\n",
    "for i in range(len(pred)):\n",
    "    if pred[i] == 1:\n",
    "        if groundTruth[i] ==1:\n",
    "            tp += 1\n",
    "        else:\n",
    "            fp += 1\n",
    "    elif pred[i] == 0:\n",
    "        if groundTruth[i] == 0:\n",
    "            tn += 1\n",
    "        else:\n",
    "            fn += 1\n",
    "\n",
    "if tp:\n",
    "    precision = tp/(tp+fp)\n",
    "    \n",
    "recall = tp/(tp+fn)\n",
    "            \n",
    "\n",
    "print(\"Precision: \" + str(precision))\n",
    "print(\"Recall: \" + str(recall))"
   ]
  },
  {
   "cell_type": "code",
   "execution_count": 71,
   "metadata": {},
   "outputs": [
    {
     "data": {
      "text/plain": [
       "0.9037365421152628"
      ]
     },
     "execution_count": 71,
     "metadata": {},
     "output_type": "execute_result"
    }
   ],
   "source": [
    "(tp+tn)/len(pred)"
   ]
  },
  {
   "cell_type": "code",
   "execution_count": 70,
   "metadata": {},
   "outputs": [
    {
     "data": {
      "text/plain": [
       "1579"
      ]
     },
     "execution_count": 70,
     "metadata": {},
     "output_type": "execute_result"
    }
   ],
   "source": [
    "len(pred)"
   ]
  },
  {
   "cell_type": "code",
   "execution_count": null,
   "metadata": {},
   "outputs": [],
   "source": [
    "val = 1\n",
    "[1,1,0,0]+[val]"
   ]
  },
  {
   "cell_type": "code",
   "execution_count": 32,
   "metadata": {},
   "outputs": [
    {
     "data": {
      "text/plain": [
       "[['2', '3', '4', '5'], ['2', '3', '4', '5']]"
      ]
     },
     "execution_count": 32,
     "metadata": {},
     "output_type": "execute_result"
    }
   ],
   "source": [
    "testStr = '1,2,3,4,5'\n",
    "vec = []\n",
    "vec.append(testStr.split(\",\")[1:])\n",
    "vec.append(testStr.split(\",\")[1:])\n",
    "vec"
   ]
  },
  {
   "cell_type": "code",
   "execution_count": null,
   "metadata": {},
   "outputs": [],
   "source": [
    "a = np.array([[1,2]])\n",
    "b = np.append(a,[[3,4]],axis=0)\n",
    "b.size"
   ]
  },
  {
   "cell_type": "code",
   "execution_count": null,
   "metadata": {},
   "outputs": [],
   "source": [
    "a = np.array([[]])\n",
    "a.size"
   ]
  },
  {
   "cell_type": "code",
   "execution_count": null,
   "metadata": {
    "collapsed": true
   },
   "outputs": [],
   "source": []
  },
  {
   "cell_type": "code",
   "execution_count": null,
   "metadata": {},
   "outputs": [],
   "source": [
    "a++"
   ]
  },
  {
   "cell_type": "code",
   "execution_count": null,
   "metadata": {
    "collapsed": true
   },
   "outputs": [],
   "source": []
  }
 ],
 "metadata": {
  "kernelspec": {
   "display_name": "Python 3",
   "language": "python",
   "name": "python3"
  },
  "language_info": {
   "codemirror_mode": {
    "name": "ipython",
    "version": 3
   },
   "file_extension": ".py",
   "mimetype": "text/x-python",
   "name": "python",
   "nbconvert_exporter": "python",
   "pygments_lexer": "ipython3",
   "version": "3.5.4"
  }
 },
 "nbformat": 4,
 "nbformat_minor": 2
}
